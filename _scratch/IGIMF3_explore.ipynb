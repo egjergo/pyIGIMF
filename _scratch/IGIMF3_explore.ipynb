{
 "cells": [
  {
   "cell_type": "code",
   "execution_count": 1,
   "metadata": {},
   "outputs": [],
   "source": [
    "%matplotlib widget\n",
    "import IGIMF3\n",
    "import numpy as np\n",
    "import pandas as pd"
   ]
  },
  {
   "cell_type": "code",
   "execution_count": 2,
   "metadata": {},
   "outputs": [
    {
     "name": "stderr",
     "output_type": "stream",
     "text": [
      "/Users/thecosmicweb/Documents/GitHub/IGIMF/_scratch/IGIMF3.py:111: RuntimeWarning: divide by zero encountered in log10\n",
      "  return 8.16 * np.e**(-0.556 * np.log10(M_igal) + 3.401) + 0.027\n"
     ]
    }
   ],
   "source": [
    "igimf3 = IGIMF3.IGIMF(0,0) # use only for the normalized functions"
   ]
  },
  {
   "cell_type": "code",
   "execution_count": 3,
   "metadata": {},
   "outputs": [],
   "source": [
    "resolution = 20"
   ]
  },
  {
   "cell_type": "code",
   "execution_count": 4,
   "metadata": {},
   "outputs": [],
   "source": [
    "Zsun = 0.0142\n",
    "delta_alpha=63\n",
    "delta_t = 1e7\n",
    "Mecl_min = 5\n",
    "Mecl_max = 1e9\n",
    "m_star_max = 150\n",
    "m_star_min = 0.08"
   ]
  },
  {
   "cell_type": "code",
   "execution_count": 5,
   "metadata": {},
   "outputs": [],
   "source": [
    "M_igal_v = np.logspace(6, 11,num=resolution)\n",
    "M_ecl_v = np.logspace(np.log10(Mecl_min), np.log10(Mecl_max), num=resolution)\n",
    "mstar_v = np.logspace(np.log10(m_star_min), np.log10(m_star_max), num=resolution)\n",
    "time_v = np.logspace(-3, 0.5, num=resolution)\n",
    "Z_rel = lambda t: (-np.reciprocal(5*t) -1.5) # Analytic toy-model relation\n",
    "Z_rel_v = np.array([Z_rel(t) for t in time_v])\n",
    "#Z_v = np.power(10, Z_rel_v)\n",
    "Z_v = np.logspace(-15,-1, num=resolution)\n",
    "Z_sqr_v = np.log10(np.divide(Z_v, Zsun))"
   ]
  },
  {
   "cell_type": "code",
   "execution_count": 6,
   "metadata": {},
   "outputs": [
    {
     "data": {
      "text/plain": [
       "array([-1.31522883e+01, -1.28665741e+01, -1.25808598e+01, -1.22951455e+01,\n",
       "       -1.20094312e+01, -1.17237169e+01, -1.14380026e+01, -1.11522883e+01,\n",
       "       -1.08665741e+01, -1.05808598e+01, -1.02951455e+01, -1.00094312e+01,\n",
       "       -9.72371692e+00, -9.43800263e+00, -9.15228834e+00, -8.86657406e+00,\n",
       "       -8.58085977e+00, -8.29514549e+00, -8.00943120e+00, -7.72371692e+00,\n",
       "       -7.43800263e+00, -7.15228834e+00, -6.86657406e+00, -6.58085977e+00,\n",
       "       -6.29514549e+00, -6.00943120e+00, -5.72371692e+00, -5.43800263e+00,\n",
       "       -5.15228834e+00, -4.86657406e+00, -4.58085977e+00, -4.29514549e+00,\n",
       "       -4.00943120e+00, -3.72371692e+00, -3.43800263e+00, -3.15228834e+00,\n",
       "       -2.86657406e+00, -2.58085977e+00, -2.29514549e+00, -2.00943120e+00,\n",
       "       -1.72371692e+00, -1.43800263e+00, -1.15228834e+00, -8.66574059e-01,\n",
       "       -5.80859773e-01, -2.95145487e-01, -9.43120153e-03,  2.76283084e-01,\n",
       "        5.61997370e-01,  8.47711656e-01])"
      ]
     },
     "execution_count": 6,
     "metadata": {},
     "output_type": "execute_result"
    }
   ],
   "source": [
    "Z_sqr_v"
   ]
  },
  {
   "cell_type": "markdown",
   "metadata": {},
   "source": [
    "__Metallicity__"
   ]
  },
  {
   "cell_type": "code",
   "execution_count": 7,
   "metadata": {},
   "outputs": [
    {
     "ename": "ValueError",
     "evalue": "x and y must have same first dimension, but have shapes (20,) and (50,)",
     "output_type": "error",
     "traceback": [
      "\u001b[0;31m---------------------------------------------------------------------------\u001b[0m",
      "\u001b[0;31mValueError\u001b[0m                                Traceback (most recent call last)",
      "\u001b[0;32m/var/folders/n5/w0fn4lh163xg01yv7n3pmklm0000gn/T/ipykernel_39303/1151473893.py\u001b[0m in \u001b[0;36m<module>\u001b[0;34m\u001b[0m\n\u001b[1;32m     16\u001b[0m     \u001b[0mplt\u001b[0m\u001b[0;34m.\u001b[0m\u001b[0mshow\u001b[0m\u001b[0;34m(\u001b[0m\u001b[0mblock\u001b[0m\u001b[0;34m=\u001b[0m\u001b[0;32mFalse\u001b[0m\u001b[0;34m)\u001b[0m\u001b[0;34m\u001b[0m\u001b[0;34m\u001b[0m\u001b[0m\n\u001b[1;32m     17\u001b[0m     \u001b[0;32mreturn\u001b[0m \u001b[0;32mNone\u001b[0m\u001b[0;34m\u001b[0m\u001b[0;34m\u001b[0m\u001b[0m\n\u001b[0;32m---> 18\u001b[0;31m \u001b[0mZ_plot\u001b[0m\u001b[0;34m(\u001b[0m\u001b[0mtime_v\u001b[0m\u001b[0;34m,\u001b[0m \u001b[0mZ_v\u001b[0m\u001b[0;34m)\u001b[0m\u001b[0;34m\u001b[0m\u001b[0;34m\u001b[0m\u001b[0m\n\u001b[0m",
      "\u001b[0;32m/var/folders/n5/w0fn4lh163xg01yv7n3pmklm0000gn/T/ipykernel_39303/1151473893.py\u001b[0m in \u001b[0;36mZ_plot\u001b[0;34m(time_v, Z_v)\u001b[0m\n\u001b[1;32m      3\u001b[0m     \u001b[0;32mimport\u001b[0m \u001b[0mmatplotlib\u001b[0m\u001b[0;34m.\u001b[0m\u001b[0mticker\u001b[0m \u001b[0;32mas\u001b[0m \u001b[0mticker\u001b[0m\u001b[0;34m\u001b[0m\u001b[0;34m\u001b[0m\u001b[0m\n\u001b[1;32m      4\u001b[0m     \u001b[0mfig\u001b[0m\u001b[0;34m,\u001b[0m \u001b[0max\u001b[0m \u001b[0;34m=\u001b[0m \u001b[0mplt\u001b[0m\u001b[0;34m.\u001b[0m\u001b[0msubplots\u001b[0m\u001b[0;34m(\u001b[0m\u001b[0;36m1\u001b[0m\u001b[0;34m,\u001b[0m\u001b[0;36m1\u001b[0m\u001b[0;34m,\u001b[0m \u001b[0mfigsize\u001b[0m\u001b[0;34m=\u001b[0m\u001b[0;34m(\u001b[0m\u001b[0;36m7\u001b[0m\u001b[0;34m,\u001b[0m\u001b[0;36m5\u001b[0m\u001b[0;34m)\u001b[0m\u001b[0;34m)\u001b[0m\u001b[0;34m\u001b[0m\u001b[0;34m\u001b[0m\u001b[0m\n\u001b[0;32m----> 5\u001b[0;31m     \u001b[0max\u001b[0m\u001b[0;34m.\u001b[0m\u001b[0msemilogy\u001b[0m\u001b[0;34m(\u001b[0m\u001b[0mtime_v\u001b[0m\u001b[0;34m,\u001b[0m \u001b[0mZ_v\u001b[0m\u001b[0;34m,\u001b[0m \u001b[0mlinewidth\u001b[0m\u001b[0;34m=\u001b[0m\u001b[0;36m3\u001b[0m\u001b[0;34m,\u001b[0m \u001b[0mcolor\u001b[0m\u001b[0;34m=\u001b[0m\u001b[0;34m'magenta'\u001b[0m\u001b[0;34m)\u001b[0m\u001b[0;34m\u001b[0m\u001b[0;34m\u001b[0m\u001b[0m\n\u001b[0m\u001b[1;32m      6\u001b[0m     \u001b[0max\u001b[0m\u001b[0;34m.\u001b[0m\u001b[0mset_ylabel\u001b[0m\u001b[0;34m(\u001b[0m\u001b[0;34mr'$Z=M_Z/M_{gas}$'\u001b[0m\u001b[0;34m,\u001b[0m \u001b[0mfontsize\u001b[0m\u001b[0;34m=\u001b[0m\u001b[0;36m15\u001b[0m\u001b[0;34m)\u001b[0m\u001b[0;34m\u001b[0m\u001b[0;34m\u001b[0m\u001b[0m\n\u001b[1;32m      7\u001b[0m     \u001b[0max\u001b[0m\u001b[0;34m.\u001b[0m\u001b[0mset_xlabel\u001b[0m\u001b[0;34m(\u001b[0m\u001b[0;34mf'Time [Gyr]'\u001b[0m\u001b[0;34m,\u001b[0m \u001b[0mfontsize\u001b[0m\u001b[0;34m=\u001b[0m\u001b[0;36m15\u001b[0m\u001b[0;34m)\u001b[0m\u001b[0;34m\u001b[0m\u001b[0;34m\u001b[0m\u001b[0m\n",
      "\u001b[0;32m~/Library/Python/3.8/lib/python/site-packages/matplotlib/axes/_axes.py\u001b[0m in \u001b[0;36msemilogy\u001b[0;34m(self, *args, **kwargs)\u001b[0m\n\u001b[1;32m   1862\u001b[0m                       'basey', 'subsy', 'nonposy']}\n\u001b[1;32m   1863\u001b[0m         \u001b[0mself\u001b[0m\u001b[0;34m.\u001b[0m\u001b[0mset_yscale\u001b[0m\u001b[0;34m(\u001b[0m\u001b[0;34m'log'\u001b[0m\u001b[0;34m,\u001b[0m \u001b[0;34m**\u001b[0m\u001b[0md\u001b[0m\u001b[0;34m)\u001b[0m\u001b[0;34m\u001b[0m\u001b[0;34m\u001b[0m\u001b[0m\n\u001b[0;32m-> 1864\u001b[0;31m         return self.plot(\n\u001b[0m\u001b[1;32m   1865\u001b[0m             *args, **{k: v for k, v in kwargs.items() if k not in d})\n\u001b[1;32m   1866\u001b[0m \u001b[0;34m\u001b[0m\u001b[0m\n",
      "\u001b[0;32m~/Library/Python/3.8/lib/python/site-packages/matplotlib/axes/_axes.py\u001b[0m in \u001b[0;36mplot\u001b[0;34m(self, scalex, scaley, data, *args, **kwargs)\u001b[0m\n\u001b[1;32m   1630\u001b[0m         \"\"\"\n\u001b[1;32m   1631\u001b[0m         \u001b[0mkwargs\u001b[0m \u001b[0;34m=\u001b[0m \u001b[0mcbook\u001b[0m\u001b[0;34m.\u001b[0m\u001b[0mnormalize_kwargs\u001b[0m\u001b[0;34m(\u001b[0m\u001b[0mkwargs\u001b[0m\u001b[0;34m,\u001b[0m \u001b[0mmlines\u001b[0m\u001b[0;34m.\u001b[0m\u001b[0mLine2D\u001b[0m\u001b[0;34m)\u001b[0m\u001b[0;34m\u001b[0m\u001b[0;34m\u001b[0m\u001b[0m\n\u001b[0;32m-> 1632\u001b[0;31m         \u001b[0mlines\u001b[0m \u001b[0;34m=\u001b[0m \u001b[0;34m[\u001b[0m\u001b[0;34m*\u001b[0m\u001b[0mself\u001b[0m\u001b[0;34m.\u001b[0m\u001b[0m_get_lines\u001b[0m\u001b[0;34m(\u001b[0m\u001b[0;34m*\u001b[0m\u001b[0margs\u001b[0m\u001b[0;34m,\u001b[0m \u001b[0mdata\u001b[0m\u001b[0;34m=\u001b[0m\u001b[0mdata\u001b[0m\u001b[0;34m,\u001b[0m \u001b[0;34m**\u001b[0m\u001b[0mkwargs\u001b[0m\u001b[0;34m)\u001b[0m\u001b[0;34m]\u001b[0m\u001b[0;34m\u001b[0m\u001b[0;34m\u001b[0m\u001b[0m\n\u001b[0m\u001b[1;32m   1633\u001b[0m         \u001b[0;32mfor\u001b[0m \u001b[0mline\u001b[0m \u001b[0;32min\u001b[0m \u001b[0mlines\u001b[0m\u001b[0;34m:\u001b[0m\u001b[0;34m\u001b[0m\u001b[0;34m\u001b[0m\u001b[0m\n\u001b[1;32m   1634\u001b[0m             \u001b[0mself\u001b[0m\u001b[0;34m.\u001b[0m\u001b[0madd_line\u001b[0m\u001b[0;34m(\u001b[0m\u001b[0mline\u001b[0m\u001b[0;34m)\u001b[0m\u001b[0;34m\u001b[0m\u001b[0;34m\u001b[0m\u001b[0m\n",
      "\u001b[0;32m~/Library/Python/3.8/lib/python/site-packages/matplotlib/axes/_base.py\u001b[0m in \u001b[0;36m__call__\u001b[0;34m(self, data, *args, **kwargs)\u001b[0m\n\u001b[1;32m    310\u001b[0m                 \u001b[0mthis\u001b[0m \u001b[0;34m+=\u001b[0m \u001b[0margs\u001b[0m\u001b[0;34m[\u001b[0m\u001b[0;36m0\u001b[0m\u001b[0;34m]\u001b[0m\u001b[0;34m,\u001b[0m\u001b[0;34m\u001b[0m\u001b[0;34m\u001b[0m\u001b[0m\n\u001b[1;32m    311\u001b[0m                 \u001b[0margs\u001b[0m \u001b[0;34m=\u001b[0m \u001b[0margs\u001b[0m\u001b[0;34m[\u001b[0m\u001b[0;36m1\u001b[0m\u001b[0;34m:\u001b[0m\u001b[0;34m]\u001b[0m\u001b[0;34m\u001b[0m\u001b[0;34m\u001b[0m\u001b[0m\n\u001b[0;32m--> 312\u001b[0;31m             \u001b[0;32myield\u001b[0m \u001b[0;32mfrom\u001b[0m \u001b[0mself\u001b[0m\u001b[0;34m.\u001b[0m\u001b[0m_plot_args\u001b[0m\u001b[0;34m(\u001b[0m\u001b[0mthis\u001b[0m\u001b[0;34m,\u001b[0m \u001b[0mkwargs\u001b[0m\u001b[0;34m)\u001b[0m\u001b[0;34m\u001b[0m\u001b[0;34m\u001b[0m\u001b[0m\n\u001b[0m\u001b[1;32m    313\u001b[0m \u001b[0;34m\u001b[0m\u001b[0m\n\u001b[1;32m    314\u001b[0m     \u001b[0;32mdef\u001b[0m \u001b[0mget_next_color\u001b[0m\u001b[0;34m(\u001b[0m\u001b[0mself\u001b[0m\u001b[0;34m)\u001b[0m\u001b[0;34m:\u001b[0m\u001b[0;34m\u001b[0m\u001b[0;34m\u001b[0m\u001b[0m\n",
      "\u001b[0;32m~/Library/Python/3.8/lib/python/site-packages/matplotlib/axes/_base.py\u001b[0m in \u001b[0;36m_plot_args\u001b[0;34m(self, tup, kwargs, return_kwargs)\u001b[0m\n\u001b[1;32m    496\u001b[0m \u001b[0;34m\u001b[0m\u001b[0m\n\u001b[1;32m    497\u001b[0m         \u001b[0;32mif\u001b[0m \u001b[0mx\u001b[0m\u001b[0;34m.\u001b[0m\u001b[0mshape\u001b[0m\u001b[0;34m[\u001b[0m\u001b[0;36m0\u001b[0m\u001b[0;34m]\u001b[0m \u001b[0;34m!=\u001b[0m \u001b[0my\u001b[0m\u001b[0;34m.\u001b[0m\u001b[0mshape\u001b[0m\u001b[0;34m[\u001b[0m\u001b[0;36m0\u001b[0m\u001b[0;34m]\u001b[0m\u001b[0;34m:\u001b[0m\u001b[0;34m\u001b[0m\u001b[0;34m\u001b[0m\u001b[0m\n\u001b[0;32m--> 498\u001b[0;31m             raise ValueError(f\"x and y must have same first dimension, but \"\n\u001b[0m\u001b[1;32m    499\u001b[0m                              f\"have shapes {x.shape} and {y.shape}\")\n\u001b[1;32m    500\u001b[0m         \u001b[0;32mif\u001b[0m \u001b[0mx\u001b[0m\u001b[0;34m.\u001b[0m\u001b[0mndim\u001b[0m \u001b[0;34m>\u001b[0m \u001b[0;36m2\u001b[0m \u001b[0;32mor\u001b[0m \u001b[0my\u001b[0m\u001b[0;34m.\u001b[0m\u001b[0mndim\u001b[0m \u001b[0;34m>\u001b[0m \u001b[0;36m2\u001b[0m\u001b[0;34m:\u001b[0m\u001b[0;34m\u001b[0m\u001b[0;34m\u001b[0m\u001b[0m\n",
      "\u001b[0;31mValueError\u001b[0m: x and y must have same first dimension, but have shapes (20,) and (50,)"
     ]
    },
    {
     "data": {
      "application/vnd.jupyter.widget-view+json": {
       "model_id": "2b0412df20e74b94a551c675f8e21e7d",
       "version_major": 2,
       "version_minor": 0
      },
      "image/png": "[encoded data removed]",
      "text/html": [
       "\n",
       "            <div style=\"display: inline-block;\">\n",
       "                <div class=\"jupyter-widgets widget-label\" style=\"text-align: center;\">\n",
       "                    Figure\n",
       "                </div>\n",
       "                <img src='data:image/png;base64,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' width=700.0/>\n",
       "            </div>\n",
       "        "
      ],
      "text/plain": [
       "Canvas(toolbar=Toolbar(toolitems=[('Home', 'Reset original view', 'home', 'home'), ('Back', 'Back to previous …"
      ]
     },
     "metadata": {},
     "output_type": "display_data"
    }
   ],
   "source": [
    "def Z_plot(time_v, Z_v):\n",
    "    from matplotlib import pyplot as plt\n",
    "    import matplotlib.ticker as ticker\n",
    "    fig, ax = plt.subplots(1,1, figsize=(7,5))\n",
    "    ax.semilogy(time_v, Z_v, linewidth=3, color='magenta')\n",
    "    ax.set_ylabel(r'$Z=M_Z/M_{gas}$', fontsize=15)\n",
    "    ax.set_xlabel(f'Time [Gyr]', fontsize=15)\n",
    "    ax.axhline(Zsun, color='black', linewidth=2)\n",
    "    #plt.title(f'{M = :.2e} {Msun}', fontsize=15)\n",
    "    ax.set_ylim(1e-8,1)\n",
    "    plt.yticks(fontsize=15)\n",
    "    plt.xticks(fontsize=15)\n",
    "    ax.tick_params(width=2)\n",
    "    fig.tight_layout()\n",
    "    #plt.savefig(f'Z_plot_{name}.pdf', bbox_inches='tight')\n",
    "    plt.show(block=False)\n",
    "    return None\n",
    "Z_plot(time_v, Z_v)"
   ]
  },
  {
   "cell_type": "markdown",
   "metadata": {},
   "source": [
    "__Gas density__"
   ]
  },
  {
   "cell_type": "code",
   "execution_count": null,
   "metadata": {},
   "outputs": [],
   "source": [
    "def rho_cl(M_ecl):\n",
    "    return 10**(0.61 * np.log10(M_ecl) + 2.85)\n",
    "rho_cl_v = np.array([rho_cl(M) for M in M_ecl_v]) "
   ]
  },
  {
   "cell_type": "code",
   "execution_count": null,
   "metadata": {},
   "outputs": [],
   "source": [
    "def rho_plot(M_ecl_v, rho_cl_v):\n",
    "    from matplotlib import pyplot as plt\n",
    "    import matplotlib.ticker as ticker\n",
    "    Msun = r'$M_{\\odot}$'\n",
    "    fig, ax = plt.subplots(1,1, figsize=(7,5))\n",
    "    ax.loglog(M_ecl_v, rho_cl_v, linewidth=3, color='grey')\n",
    "    ax.set_ylabel(r'$\\rho_{cl}$', fontsize=15)\n",
    "    ax.set_xlabel(r'$M_{ecl}$ '+f'[{Msun}]', fontsize=15)\n",
    "    #plt.title(f'{M = :.2e} {Msun}', fontsize=15)\n",
    "    #ax.set_ylim(1e-8,1)\n",
    "    plt.yticks(fontsize=15)\n",
    "    plt.xticks(fontsize=15)\n",
    "    ax.tick_params(width=2)\n",
    "    fig.tight_layout()\n",
    "    #plt.savefig(f'Z_plot_{name}.pdf', bbox_inches='tight')\n",
    "    plt.show(block=False)\n",
    "    return None\n",
    "rho_plot(M_ecl_v, rho_cl_v)"
   ]
  },
  {
   "cell_type": "markdown",
   "metadata": {},
   "source": [
    "__Stellar IMF__"
   ]
  },
  {
   "cell_type": "code",
   "execution_count": null,
   "metadata": {},
   "outputs": [],
   "source": [
    "def x_alpha_3_func(Z, rho_cl):\n",
    "    return (-0.14 * Z + 0.99 * np.log10(rho_cl/1e6))\n",
    "x_func = np.vectorize(x_alpha_3_func)\n",
    "Z_mesh, rho_mesh = np.meshgrid(Z_sqr_v, rho_cl_v) # square bracket metallicity\n",
    "x_mesh = x_func(Z_mesh, rho_mesh)"
   ]
  },
  {
   "cell_type": "code",
   "execution_count": null,
   "metadata": {},
   "outputs": [],
   "source": [
    "x_mesh.max()"
   ]
  },
  {
   "cell_type": "code",
   "execution_count": null,
   "metadata": {},
   "outputs": [],
   "source": [
    "def x_plot():\n",
    "    from matplotlib import pyplot as plt\n",
    "    from mpl_toolkits import mplot3d\n",
    "    import matplotlib.ticker as ticker\n",
    "    fig = plt.figure(figsize=(7,5))\n",
    "    ax = plt.axes(projection='3d')\n",
    "    #ax.contour3D(Z_mesh, rho_mesh, x_mesh, 50, cmap='plasma')\n",
    "    ax.plot_surface(np.log10(Z_mesh), np.log10(rho_mesh), x_mesh, cmap='plasma')\n",
    "    #ax.plot_surface(Z_sqr_v, rho_cl_v, x_mesh, 50, cmap='plasma')\n",
    "    ax.set_xlabel('[Z]', fontsize=15, labelpad=15)\n",
    "    ax.set_ylabel(r'$\\log_{10}(\\rho_{cl})$', fontsize=15, labelpad=15)\n",
    "    ax.set_zlabel(r'x$_{\\alpha_3}$', fontsize=15, labelpad=15)\n",
    "    ax.tick_params(labelsize=15)\n",
    "    ax.set_zlim(-4,5)\n",
    "    plt.show(block=False)\n",
    "x_plot()"
   ]
  },
  {
   "cell_type": "code",
   "execution_count": null,
   "metadata": {},
   "outputs": [],
   "source": [
    "def alpha_3_func(x_alpha_3):\n",
    "    if x_alpha_3 < -0.87:\n",
    "        return 2.3\n",
    "    else:\n",
    "        return -0.41 * x_alpha_3 + 1.94\n",
    "xm_s1, xm_s2 = x_mesh.shape\n",
    "alpha_3_mesh = np.reshape([[alpha_3_func(x_mesh[i,j]) for i in range(xm_s1)] for j in range(xm_s2)], x_mesh.shape)"
   ]
  },
  {
   "cell_type": "code",
   "execution_count": null,
   "metadata": {},
   "outputs": [],
   "source": [
    "def alpha_3_plot():\n",
    "    from matplotlib import pyplot as plt\n",
    "    from mpl_toolkits import mplot3d\n",
    "    import matplotlib.ticker as ticker\n",
    "    fig = plt.figure(figsize=(7,5))\n",
    "    ax = plt.axes(projection='3d')\n",
    "    #ax.contour3D(Z_mesh, rho_mesh, x_mesh, 50, cmap='plasma')\n",
    "    ax.plot_surface(np.log10(Z_mesh), np.log10(rho_mesh), alpha_3_mesh, cmap='plasma_r')\n",
    "    #ax.plot_surface(Z_sqr_v, rho_cl_v, x_mesh, 50, cmap='plasma')\n",
    "    ax.set_xlabel('[Z]', fontsize=15, labelpad=15)\n",
    "    ax.set_ylabel(r'$\\log_{10}(\\rho_{cl})$', fontsize=15, labelpad=15)\n",
    "    ax.set_zlabel(r'${\\alpha_3}$', fontsize=15, labelpad=15)\n",
    "    #ax.set_zlim(-4,5)\n",
    "    ax.tick_params(labelsize=15)\n",
    "    plt.show(block=False)\n",
    "alpha_3_plot()"
   ]
  },
  {
   "cell_type": "code",
   "execution_count": null,
   "metadata": {},
   "outputs": [],
   "source": [
    "def alpha_1_func(metal_mass_fraction):\n",
    "    return 1.3 + delta_alpha * (metal_mass_fraction - Zsun) \n",
    "def alpha_2_func(alpha_1):\n",
    "    return 1 + alpha_1\n",
    "alpha_1_v = np.array([alpha_1_func(Z) for Z in Z_v]) # Z in metal mass fraction\n",
    "alpha_2_v = np.array([alpha_2_func(alpha1) for alpha1 in alpha_1_v])"
   ]
  },
  {
   "cell_type": "code",
   "execution_count": null,
   "metadata": {},
   "outputs": [],
   "source": [
    "def alpha12_plot(Z_v, alpha_1, alpha_2):\n",
    "    from matplotlib import pyplot as plt\n",
    "    import matplotlib.ticker as ticker\n",
    "    Msun = r'$M_{\\odot}$'\n",
    "    fig, ax1 = plt.subplots(1,1, figsize=(7,5))\n",
    "    ax0 = ax1.twinx()\n",
    "    ax0.plot(Z_v, alpha_1, linewidth=1, color='tab:red')\n",
    "    ax0.set_ylabel(r'$\\alpha_1$', fontsize=15, color='tab:red')\n",
    "    ax0.set_xlabel(r'$Z=M_Z/M_{gas}$', fontsize=15)\n",
    "    ax1.plot(Z_v, alpha_2, linewidth=2, color='tab:blue')\n",
    "    ax1.set_ylabel(r'$\\alpha_2$', fontsize=15, color='tab:blue')\n",
    "    ax1.set_xlabel(r'$Z=M_Z/M_{gas}$', fontsize=15)\n",
    "    #ax.set_ylim(1e-8,1)\n",
    "    ax0.tick_params(width=2, axis='both', labelsize=15)\n",
    "    ax1.tick_params(width=2, axis='both', labelsize=15)\n",
    "    fig.tight_layout()\n",
    "    #plt.savefig(f'Z_plot_{name}.pdf', bbox_inches='tight')\n",
    "    plt.show(block=False)\n",
    "    return None\n",
    "alpha12_plot(Z_v, alpha_1_v, alpha_2_v)"
   ]
  },
  {
   "cell_type": "code",
   "execution_count": null,
   "metadata": {},
   "outputs": [],
   "source": [
    "def initial_mass_function(m, Z, alpha_3=None, m_max=None):\n",
    "    alpha_1 = alpha_1_func(Z)\n",
    "    alpha_2 = alpha_2_func(alpha_1)\n",
    "    if np.logical_and(m>=m_star_min, m<0.5):\n",
    "        return m**(-alpha_1) * 2\n",
    "    elif np.logical_and(m>=0.5, m<1.):\n",
    "        return m**(-alpha_2)\n",
    "    elif m>=1.:\n",
    "        return igimf3.normalized(m, m**(-alpha_3), condition=m_max)\n",
    "    else:\n",
    "        return 0.\n",
    "    \n",
    "def stellar_IMF(M_ecl, Z):\n",
    "    rho_cl_val = rho_cl(M_ecl)\n",
    "    x_alpha_3 = x_func(Z, rho_cl_val)\n",
    "    alpha_3 = alpha_3_func(x_alpha_3)\n",
    "    k_star, m_max = igimf3.normalization(initial_mass_function, M_ecl, \n",
    "                                           m_star_min, m_star_max, Z, alpha_3)\n",
    "    IMF_weighted_func = lambda m: m * k_star * initial_mass_function(m, Z, alpha_3=alpha_3, m_max=m_max)\n",
    "    IMF_func = lambda m: k_star * initial_mass_function(m, Z, alpha_3=alpha_3, m_max=m_max)\n",
    "    return k_star, m_max, IMF_func, IMF_weighted_func, alpha_3"
   ]
  },
  {
   "cell_type": "code",
   "execution_count": null,
   "metadata": {},
   "outputs": [],
   "source": [
    "sIMF_val = [stellar_IMF(Mecl, Z) for Z in Z_sqr_v for Mecl in M_ecl_v]\n",
    "sIMF_functions = []\n",
    "for i,val in enumerate(sIMF_val):\n",
    "    sIMF_functions.append(val[2])"
   ]
  },
  {
   "cell_type": "code",
   "execution_count": null,
   "metadata": {},
   "outputs": [],
   "source": [
    "M_ecl_v_mesh, Z_sqr_mesh = np.meshgrid(M_ecl_v, Z_sqr_v) # square bracket metallicity\n",
    "sIMF = np.reshape(sIMF_functions, (len(Z_sqr_v), len(M_ecl_v)))"
   ]
  },
  {
   "cell_type": "code",
   "execution_count": null,
   "metadata": {},
   "outputs": [],
   "source": [
    "[sIMF_functions[41](m) for m in mstar_v] == [sIMF[2,1](m) for m in mstar_v] "
   ]
  },
  {
   "cell_type": "code",
   "execution_count": null,
   "metadata": {},
   "outputs": [],
   "source": [
    "Z_sqr_v[-1]"
   ]
  },
  {
   "cell_type": "code",
   "execution_count": null,
   "metadata": {},
   "outputs": [],
   "source": [
    "10**0.8477116556169435"
   ]
  },
  {
   "cell_type": "code",
   "execution_count": null,
   "metadata": {},
   "outputs": [],
   "source": [
    "def sIMF_subplot():\n",
    "    import matplotlib.pyplot as plt \n",
    "    import itertools\n",
    "    from mpl_toolkits.axes_grid1 import make_axes_locatable\n",
    "    Z = [[0,0],[0,0]]\n",
    "    cm = plt.cm.get_cmap(name='viridis')\n",
    "    levels = np.linspace(Z_sqr_v[0], Z_sqr_v[-1], 100, endpoint=True)\n",
    "    CS3 = plt.contourf(Z, levels, cmap=cm)\n",
    "    plt.clf()\n",
    "    num_colors=20\n",
    "    currentColors = [cm(1.*i/num_colors) for i in range(num_colors)]\n",
    "    currentColor = itertools.cycle(currentColors)\n",
    "    fig, axs = plt.subplots(4, 5, figsize=(8,6))\n",
    "    for i, ax in enumerate(axs.flat):\n",
    "        for j, Z in enumerate(Z_sqr_mesh):\n",
    "            ax.annotate(r'$M_{ecl}=$%.2e'%(M_ecl_v[i]), xy=(0.5, 0.9), xycoords='axes fraction', horizontalalignment='center', verticalalignment='top', fontsize=7, alpha=0.7)\n",
    "            ax.loglog(mstar_v, [sIMF[j,i](m) for m in mstar_v], color=next(currentColor))\n",
    "            ax.set_ylim(2e-5,1e11)\n",
    "            ax.set_xlim(2e-2,5e2)\n",
    "    for nr in range(4):\n",
    "        for nc in range(5):\n",
    "            if nc != 0:\n",
    "                axs[nr,nc].set_yticklabels([])\n",
    "            if nr != 4-1:\n",
    "                axs[nr,nc].set_xticklabels([])\n",
    "    axs[4//2,0].set_ylabel(r'$\\xi_{stellar}$', fontsize = 15)\n",
    "    axs[4-1, 5//2].set_xlabel(r'Masses [$M_{\\odot}$]', fontsize = 15)\n",
    "    #divider = make_axes_locatable(axs.flat[-1])\n",
    "    plt.subplots_adjust(bottom=0., right=0.95, top=1.)\n",
    "    cax = plt.axes([0.85, 0.2, 0.025, 0.7])#divider.append_axes(\"right\", size=\"5%\", pad=\"2%\")\n",
    "    cbar = plt.colorbar(CS3, cmap=cm, cax=cax, format=\"%.2f\").set_label(label=r'[Z]',size=15)\n",
    "    fig.tight_layout(rect=[0,0,0.85,1])\n",
    "    fig.subplots_adjust(wspace=0., hspace=0.)\n",
    "    fig.savefig('stellarIMF_subplots.pdf')\n",
    "sIMF_subplot()"
   ]
  },
  {
   "cell_type": "code",
   "execution_count": null,
   "metadata": {},
   "outputs": [],
   "source": [
    "def sIMF_plot():\n",
    "    import matplotlib.pyplot as plt \n",
    "    import itertools\n",
    "    import matplotlib.gridspec as gridspec\n",
    "    from mpl_toolkits.axes_grid1 import make_axes_locatable\n",
    "    Z = [[0,0],[0,0]]\n",
    "    cm = plt.cm.get_cmap(name='viridis')\n",
    "    levels = np.linspace(Z_sqr_v[10], Z_sqr_v[-1], 100, endpoint=True)\n",
    "    CS3 = plt.contourf(Z, levels, cmap=cm)\n",
    "    plt.clf()\n",
    "    num_colors=20\n",
    "    currentColors = [cm(1.*i/num_colors) for i in range(num_colors)]\n",
    "    currentColor = itertools.cycle(currentColors)\n",
    "    #fig, axs = plt.subplots(4, 5, figsize=(8,6))\n",
    "    fig = plt.figure(constrained_layout=True)\n",
    "    gs = fig.add_gridspec(4, 6)\n",
    "    axs = fig.add_subplot(gs[:,:6])\n",
    "    cax = fig.add_subplot(gs[:, -1])\n",
    "    for i, ax in enumerate(axs):\n",
    "        for j, Z in enumerate(Z_sqr_mesh):\n",
    "            ax = fig.add_subplot(spec[row, col])\n",
    "            ax.annotate(r'$M_{ecl}=$%.2e'%(M_ecl_v[i]), xy=(0.5, 0.9), xycoords='axes fraction', horizontalalignment='center', verticalalignment='top', fontsize=7, alpha=0.7)\n",
    "            ax.loglog(mstar_v, [sIMF[j,i](m) for m in mstar_v], color=next(currentColor))\n",
    "            ax.set_ylim(2e-5,1e11)\n",
    "            ax.set_xlim(2e-2,5e2)\n",
    "    for nr in range(4):\n",
    "        for nc in range(5):\n",
    "            if nc != 0:\n",
    "                axs[nr,nc].set_yticklabels([])\n",
    "            if nr != 4-1:\n",
    "                axs[nr,nc].set_xticklabels([])\n",
    "    axs[4//2,0].set_ylabel(r'$\\xi_{stellar}$', fontsize = 15)\n",
    "    axs[4-1, 5//2].set_xlabel(r'Masses [$M_{\\odot}$]', fontsize = 15)\n",
    "    divider = make_axes_locatable(axs.flat[-1])\n",
    "    #cax = divider.append_axes(\"right\", size=\"5%\", pad=\"2%\")\n",
    "    cbar = fig.colorbar(CS3, cmap=cm, cax=cax, format=\"%.2f\").set_label(label=r'[Z]',size=15)\n",
    "    fig.tight_layout()\n",
    "    fig.subplots_adjust(wspace=0., hspace=0.)\n",
    "sIMF_plot()"
   ]
  },
  {
   "cell_type": "markdown",
   "metadata": {},
   "source": [
    "__SFR and downsizing time__"
   ]
  },
  {
   "cell_type": "code",
   "execution_count": null,
   "metadata": {},
   "outputs": [],
   "source": [
    "def delta_tau(M_igal):\n",
    "    return 8.16 * np.e**(-0.556 * np.log10(M_igal) + 3.401) + 0.027\n",
    "def SFR_func(M_igal):\n",
    "    downsizing_time = delta_tau(M_igal)\n",
    "    return np.divide(M_igal, downsizing_time * 1e9), downsizing_time\n",
    "val = np.array([SFR_func(Migal) for Migal in M_igal_v])\n",
    "SFR = val[:,0]\n",
    "downsizing_time = val[:,1]"
   ]
  },
  {
   "cell_type": "code",
   "execution_count": null,
   "metadata": {},
   "outputs": [],
   "source": [
    "def Migal_plot(M_igal_v, SFR, downsizing_time):\n",
    "    from matplotlib import pyplot as plt\n",
    "    import matplotlib.ticker as ticker\n",
    "    Msun = r'$M_{\\odot}$'\n",
    "    fig, ax1 = plt.subplots(1,1, figsize=(7,5))\n",
    "    ax0 = ax1.twinx()\n",
    "    ax0.loglog(M_igal_v, SFR, linewidth=3, color='tab:red')\n",
    "    ax0.set_ylabel(f'SFR [{Msun}/yr]', fontsize=15, color='tab:red')\n",
    "    ax0.set_xlabel(r'$M_{igal}$ '+f'[{Msun}]', fontsize=15)\n",
    "    ax1.semilogx(M_igal_v, downsizing_time, linewidth=3, color='tab:blue')\n",
    "    ax1.set_ylabel(r'$\\Delta\\tau$ [Gyr]', fontsize=15, color='tab:blue')\n",
    "    ax1.set_xlabel(r'$M_{igal}$ '+f'[{Msun}]', fontsize=15)\n",
    "    #ax.set_ylim(1e-8,1)\n",
    "    ax0.tick_params(width=2, axis='both', labelsize=15)\n",
    "    ax1.tick_params(width=2, axis='both', labelsize=15)\n",
    "    fig.tight_layout()\n",
    "    #plt.savefig(f'Z_plot_{name}.pdf', bbox_inches='tight')\n",
    "    plt.show(block=False)\n",
    "    return None\n",
    "Migal_plot(M_igal_v, SFR, downsizing_time)"
   ]
  },
  {
   "cell_type": "markdown",
   "metadata": {},
   "source": [
    "__Embedded cluster mass function__"
   ]
  },
  {
   "cell_type": "code",
   "execution_count": null,
   "metadata": {},
   "outputs": [],
   "source": [
    "def beta_func(SFR_in_delta_t):\n",
    "    return -0.106 * np.log10(SFR_in_delta_t) + 2\n",
    "beta_ECMF = [beta_func(s) for s in SFR]"
   ]
  },
  {
   "cell_type": "code",
   "execution_count": null,
   "metadata": {},
   "outputs": [],
   "source": [
    "def beta_plot(SFR, beta_ECMF):\n",
    "    from matplotlib import pyplot as plt\n",
    "    import matplotlib.ticker as ticker\n",
    "    Msun = r'$M_{\\odot}$'\n",
    "    fig, ax = plt.subplots(1,1, figsize=(7,5))\n",
    "    ax.semilogx(SFR, beta_ECMF, linewidth=3, color='purple')\n",
    "    ax.set_ylabel(r'$\\beta$', fontsize=15)\n",
    "    ax.set_xlabel(f'SFR [{Msun}/yr]', fontsize=15)\n",
    "    #plt.title(f'{M = :.2e} {Msun}', fontsize=15)\n",
    "    #ax.set_ylim(1e-8,1)\n",
    "    plt.yticks(fontsize=15)\n",
    "    plt.xticks(fontsize=15)\n",
    "    ax.tick_params(width=2)\n",
    "    fig.tight_layout()\n",
    "    #plt.savefig(f'Z_plot_{name}.pdf', bbox_inches='tight')\n",
    "    plt.show(block=False)\n",
    "    return None\n",
    "beta_plot(SFR, beta_ECMF)"
   ]
  },
  {
   "cell_type": "code",
   "execution_count": null,
   "metadata": {},
   "outputs": [],
   "source": [
    "def embedded_cluster_mass_function(M_ecl, SFR_delta_t, M_max=None):\n",
    "    r\"\"\"Eq. (8)\"\"\"\n",
    "    if M_ecl>=Mecl_min:\n",
    "        return igimf3.normalized(M_ecl, M_ecl**(-beta_func(SFR_delta_t)), condition=M_max)\n",
    "    else:\n",
    "        return 0.\n",
    "        \n",
    "def ECMF(SFR_delta_t):\n",
    "    '''duplicate of stellar_IMF !!!!!!! '''\n",
    "    k_ecl, M_max = igimf3.normalization(embedded_cluster_mass_function,\n",
    "                                      SFR_delta_t * delta_t, Mecl_min, Mecl_max, SFR_delta_t,)\n",
    "    ECMF_func = lambda M_ecl: M_ecl * k_ecl * embedded_cluster_mass_function(M_ecl, SFR_delta_t, M_max=M_max)\n",
    "    ECMF_weighted_func = lambda M_ecl: igimf3.weighted_func(M_ecl, ECMF_func)\n",
    "    return k_ecl, M_max, ECMF_func, ECMF_weighted_func"
   ]
  },
  {
   "cell_type": "code",
   "execution_count": null,
   "metadata": {},
   "outputs": [],
   "source": [
    "ECMF_val = [ECMF(S) for S in SFR]\n",
    "ECMF_functions = []\n",
    "for i,val in enumerate(ECMF_val):\n",
    "    ECMF_functions.append(val[2])"
   ]
  },
  {
   "cell_type": "code",
   "execution_count": null,
   "metadata": {},
   "outputs": [],
   "source": [
    "ECMF_mesh = []\n",
    "for ECMF_f in ECMF_functions:\n",
    "    ECMF_mesh.append([ECMF_f(M) for M in M_ecl_v])"
   ]
  },
  {
   "cell_type": "code",
   "execution_count": null,
   "metadata": {},
   "outputs": [],
   "source": [
    "SFR_mesh, M_ecl_v_mesh = np.meshgrid(SFR, M_ecl_v)\n",
    "ECMF_mesh_reshape = np.reshape(ECMF_mesh, (len(ECMF_functions), len(M_ecl_v)))"
   ]
  },
  {
   "cell_type": "code",
   "execution_count": null,
   "metadata": {},
   "outputs": [],
   "source": [
    "def ECMF_plots(M_ecl_v, ECMF_mesh):\n",
    "    from matplotlib import pyplot as plt\n",
    "    import matplotlib.ticker as ticker\n",
    "    from mpl_toolkits.axes_grid1 import make_axes_locatable\n",
    "    Msun = r'$M_{\\odot}$'\n",
    "    cm = plt.cm.get_cmap(name='magma')\n",
    "    num_colors = len(ECMF_mesh)\n",
    "    Z = [[0,0],[0,0]]\n",
    "    levels = np.linspace(np.log10(SFR[0]), np.log10(SFR[-1]), 100, endpoint=True)\n",
    "    CS3 = plt.contourf(Z, levels, cmap=cm)\n",
    "    plt.clf()\n",
    "    fig, ax = plt.subplots(1,1, figsize=(7,5))\n",
    "    SFR_colormap = np.log10(SFR)#np.log10(np.logspace(np.log10(SFR[0]), np.log10(SFR[-1]), 10, endpoint=True))\n",
    "    currentColors = [cm(1.*i/num_colors) for i in range(num_colors)]\n",
    "    currentColor = iter(currentColors)\n",
    "    #dummy_cax = ax.scatter(M_ecl_v,ECMF_mesh[19], linewidth=3, vmin=SFR_colormap[0], vmax=SFR_colormap[-1], c=np.log10(SFR), cmap=cm, alpha=1)\n",
    "    for i,ECMF in enumerate(ECMF_mesh):\n",
    "        ax.loglog(M_ecl_v,ECMF, linewidth=3, c=next(currentColor))\n",
    "    divider = make_axes_locatable(ax)\n",
    "    cax = divider.append_axes(\"right\", size=\"5%\", pad=\"2%\")\n",
    "    ax.set_ylabel(r'$\\xi_{ECMF}$', fontsize=15)\n",
    "    ax.set_xlabel(f'Mass {Msun}', fontsize=15)\n",
    "    ax.tick_params(width=2)\n",
    "    cbar = fig.colorbar(CS3, cmap=cm, cax=cax, format=\"%.2f\").set_label(label=r'$\\log_{10}({\\rm SFR})$',size=15)\n",
    "    fig.tight_layout()\n",
    "    plt.savefig(f'ECMF_plots.pdf', bbox_inches='tight')\n",
    "    #plt.show(block=False)\n",
    "    return None\n",
    "ECMF_plots(M_ecl_v, ECMF_mesh)"
   ]
  },
  {
   "cell_type": "code",
   "execution_count": null,
   "metadata": {},
   "outputs": [],
   "source": [
    "def get_ECMF_mesh_reshape(SFRval, M_ecl_v_val):\n",
    "    '''Not efficient but flexible'''\n",
    "    val = ECMF(SFRval)\n",
    "    return val[2](M_ecl_v_val)\n",
    "ECMF_mesh_vectorize = np.vectorize(get_ECMF_mesh_reshape)"
   ]
  },
  {
   "cell_type": "code",
   "execution_count": null,
   "metadata": {},
   "outputs": [],
   "source": [
    "#ECMF_mesh_revec = ECMF_mesh_vectorize(SFR_mesh, M_ecl_v_mesh)\n",
    "import pickle\n",
    "#pickle.dump(ECMF_mesh_revec,open('./ECMF_mesh_revec.pkl','wb'))\n",
    "ECMF_mesh_revec = pickle.load(open('./ECMF_mesh_revec.pkl','rb'))"
   ]
  },
  {
   "cell_type": "code",
   "execution_count": null,
   "metadata": {},
   "outputs": [],
   "source": [
    "def ECMF_3D_plot():\n",
    "    from matplotlib import pyplot as plt\n",
    "    from mpl_toolkits import mplot3d\n",
    "    from mpl_toolkits.mplot3d import Axes3D\n",
    "    import matplotlib.ticker as ticker\n",
    "    Msun = r'$M_{\\odot}$'\n",
    "    fig = plt.figure(figsize=(7,5))\n",
    "    #ax = plt.axes(projection='3d')\n",
    "    ax = Axes3D(fig)\n",
    "    ax.plot_surface(np.log10(SFR_mesh), np.log10(M_ecl_v_mesh), np.log10(ECMF_mesh_reshape), cmap='magma')\n",
    "    #ax.plot_surface(Z_sqr_v, rho_cl_v, x_mesh, 50, cmap='plasma')\n",
    "    ax.set_xlabel(r'$M_{\\rm ecl}$ [$\\log_{10}(M_{\\odot})$]', fontsize=15, labelpad=15)\n",
    "    ax.set_ylabel(f'SFR [{Msun}/yr]', fontsize=15, labelpad=15)\n",
    "    ax.set_zlabel(r'$\\xi_{ECMF}$', fontsize=15, labelpad=15)\n",
    "    #ax.set_zlim(-4,5)\n",
    "    ax.tick_params(labelsize=15)\n",
    "    plt.show()\n",
    "ECMF_3D_plot()"
   ]
  },
  {
   "cell_type": "code",
   "execution_count": null,
   "metadata": {},
   "outputs": [],
   "source": [
    "k_ecl1, M_max1, ECMF_func1, ECMF_weighted_func1 = ECMF(1e3)\n",
    "ECMF_v = np.array([ECMF_func1(M) for M in M_ecl_v])\n",
    "def ECMF_plot(M_ecl_v, ECMF_v):\n",
    "    from matplotlib import pyplot as plt\n",
    "    import matplotlib.ticker as ticker\n",
    "    Msun = r'$M_{\\odot}$'\n",
    "    fig, ax = plt.subplots(1,1, figsize=(7,5))\n",
    "    ax.loglog(M_ecl_v, ECMF_v, linewidth=3, color='#01153E')\n",
    "    ax.set_ylabel(r'$\\xi_{ECMF}$', fontsize=15)\n",
    "    ax.set_xlabel(r'E. cluster mass $M_{\\rm ecl}$ [$\\log_{10}(M_{\\odot})$]', fontsize=15)\n",
    "    #plt.title(f'{M = :.2e} {Msun}', fontsize=15)\n",
    "    #ax.set_ylim(1e-8,1)\n",
    "    plt.yticks(fontsize=15)\n",
    "    plt.xticks(fontsize=15)\n",
    "    ax.tick_params(width=2)\n",
    "    fig.tight_layout()\n",
    "    #plt.savefig(f'Z_plot_{name}.pdf', bbox_inches='tight')\n",
    "    plt.show(block=False)\n",
    "    return None\n",
    "ECMF_plot(M_ecl_v, ECMF_v)"
   ]
  }
 ],
 "metadata": {
  "kernelspec": {
   "display_name": "Python 3",
   "language": "python",
   "name": "python3"
  },
  "language_info": {
   "codemirror_mode": {
    "name": "ipython",
    "version": 3
   },
   "file_extension": ".py",
   "mimetype": "text/x-python",
   "name": "python",
   "nbconvert_exporter": "python",
   "pygments_lexer": "ipython3",
   "version": "3.8.8"
  },
  "vscode": {
   "interpreter": {
    "hash": "31f2aee4e71d21fbe5cf8b01ff0e069b9275f58929596ceb00d14d90e3e16cd6"
   }
  }
 },
 "nbformat": 4,
 "nbformat_minor": 2
}
