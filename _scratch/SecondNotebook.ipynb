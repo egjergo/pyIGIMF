{
 "cells": [
  {
   "cell_type": "code",
   "execution_count": 1,
   "metadata": {},
   "outputs": [],
   "source": [
    "import IGIMF\n",
    "import numpy as np\n",
    "import pandas as pd\n",
    "from scipy import optimize\n",
    "import scipy.integrate as integr"
   ]
  },
  {
   "cell_type": "code",
   "execution_count": 2,
   "metadata": {},
   "outputs": [],
   "source": [
    "mass_metals: float = 1e7 # [Msun]\n",
    "mass_gas: float = 1e9 # [Msun]\n",
    "M_pgal: float = 1e10 # [Msun]\n",
    "downsizing_time: float = 10 # [yr] \n",
    "t: float = 1 # [Gyr]"
   ]
  },
  {
   "cell_type": "code",
   "execution_count": 3,
   "metadata": {},
   "outputs": [],
   "source": [
    "igimf = IGIMF.IGIMF(mass_metals, mass_gas, M_pgal, downsizing_time, t)"
   ]
  },
  {
   "cell_type": "code",
   "execution_count": 4,
   "metadata": {},
   "outputs": [],
   "source": [
    "resolution = int(1e7)\n",
    "M_ecl_v = np.logspace(np.log10(igimf.M_ecl_min), np.log10(igimf.M_ecl_max), num=resolution)\n",
    "m_v = np.logspace(np.log10(igimf.m_star_min), np.log10(igimf.m_star_max), num=resolution)\n",
    "Mtot = igimf.SFR * igimf.delta_t"
   ]
  },
  {
   "cell_type": "code",
   "execution_count": 5,
   "metadata": {},
   "outputs": [
    {
     "name": "stderr",
     "output_type": "stream",
     "text": [
      "/Users/thecosmicweb/Documents/GitHub/IGIMF/_scratch/IGIMF.py:89: IntegrationWarning: The integral is probably divergent, or slowly convergent.\n",
      "  k = lambda x: np.reciprocal(integr.quad(IMF, x, upper_lim,\n",
      "/Users/thecosmicweb/Documents/GitHub/IGIMF/_scratch/IGIMF.py:89: RuntimeWarning: divide by zero encountered in reciprocal\n",
      "  k = lambda x: np.reciprocal(integr.quad(IMF, x, upper_lim,\n"
     ]
    }
   ],
   "source": [
    "k_ecl, M_max = igimf.normalization(igimf.embedded_cluster_mass_function, igimf.SFR * igimf.delta_t, igimf.M_ecl_min, igimf.M_ecl_max)"
   ]
  },
  {
   "cell_type": "code",
   "execution_count": 6,
   "metadata": {},
   "outputs": [],
   "source": [
    "ECMF_func = lambda M_ecl: k_ecl * igimf.embedded_cluster_mass_function(M_ecl, M_max=M_max)\n",
    "def ECMF_weighted_func(M):\n",
    "    return np.multiply(M, ECMF_func(M))"
   ]
  },
  {
   "cell_type": "code",
   "execution_count": 7,
   "metadata": {},
   "outputs": [],
   "source": [
    "ECMF_v = np.array([ECMF_weighted_func(M) for M in M_ecl_v])"
   ]
  },
  {
   "cell_type": "code",
   "execution_count": 8,
   "metadata": {},
   "outputs": [
    {
     "data": {
      "image/png": "[encoded data removed]",
      "text/plain": [
       "<Figure size 504x360 with 1 Axes>"
      ]
     },
     "metadata": {
      "needs_background": "light"
     },
     "output_type": "display_data"
    }
   ],
   "source": [
    "def IMF_plot(m_v, IMF_v, k, m_max, name : str, num_colors=1):\n",
    "    from matplotlib import pyplot as plt\n",
    "    import matplotlib.ticker as ticker\n",
    "    cm = plt.cm.get_cmap(name='plasma')\n",
    "    currentColors = [cm(1.*i/num_colors) for i in range(num_colors)]\n",
    "    fig, ax = plt.subplots(1,1, figsize=(7,5))\n",
    "    ax.loglog(m_v,IMF_v, linewidth=3, color='darkblue')\n",
    "    ax.set_ylabel(name, fontsize=15)\n",
    "    ax.set_xlabel(r'Mass $[M_{\\odot}]$', fontsize=15)\n",
    "    plt.yticks(fontsize=15)\n",
    "    plt.xticks(fontsize=15)\n",
    "    ax.tick_params(width=2)\n",
    "    fig.tight_layout()\n",
    "    plt.savefig(f'IMF_plot_{name}.pdf', bbox_inches='tight')\n",
    "    #plt.show(block=False)\n",
    "    return None\n",
    "IMF_plot(M_ecl_v, ECMF_v, k_ecl, M_max, 'ECMF')"
   ]
  },
  {
   "cell_type": "code",
   "execution_count": 9,
   "metadata": {},
   "outputs": [
    {
     "data": {
      "text/plain": [
       "-1.3167997747659683"
      ]
     },
     "execution_count": 9,
     "metadata": {},
     "output_type": "execute_result"
    }
   ],
   "source": [
    "integr.simpson(ECMF_v, x=M_ecl_v) - Mtot"
   ]
  },
  {
   "cell_type": "code",
   "execution_count": null,
   "metadata": {},
   "outputs": [],
   "source": []
  }
 ],
 "metadata": {
  "kernelspec": {
   "display_name": "Python 3.8.9 64-bit",
   "language": "python",
   "name": "python3"
  },
  "language_info": {
   "codemirror_mode": {
    "name": "ipython",
    "version": 3
   },
   "file_extension": ".py",
   "mimetype": "text/x-python",
   "name": "python",
   "nbconvert_exporter": "python",
   "pygments_lexer": "ipython3",
   "version": "3.8.9"
  },
  "orig_nbformat": 4,
  "vscode": {
   "interpreter": {
    "hash": "31f2aee4e71d21fbe5cf8b01ff0e069b9275f58929596ceb00d14d90e3e16cd6"
   }
  }
 },
 "nbformat": 4,
 "nbformat_minor": 2
}
