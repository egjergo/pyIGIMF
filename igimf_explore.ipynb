{
 "cells": [
  {
   "cell_type": "code",
   "execution_count": 1,
   "metadata": {},
   "outputs": [],
   "source": [
    "import igimf as ii"
   ]
  },
  {
   "cell_type": "code",
   "execution_count": 2,
   "metadata": {},
   "outputs": [],
   "source": [
    "import igimf.instance as inst"
   ]
  },
  {
   "cell_type": "code",
   "execution_count": 3,
   "metadata": {},
   "outputs": [],
   "source": [
    "import numpy as np\n",
    "mstar_l=0.07\n",
    "mstar_u=150\n",
    "mstar_v = np.logspace(np.log10(mstar_l),np.log10(mstar_u), num=50)\n"
   ]
  },
  {
   "cell_type": "markdown",
   "metadata": {},
   "source": [
    "### This is what happens when you run instance"
   ]
  },
  {
   "cell_type": "code",
   "execution_count": 4,
   "metadata": {},
   "outputs": [
    {
     "name": "stdout",
     "output_type": "stream",
     "text": [
      "\n",
      "At a time t characterized by:\n",
      "SFR=1.00e+00\n",
      "and \n",
      "Mtot=1.00e+05\n",
      "\n",
      "\n",
      "dictionary of an e.cl.'s stellar IMF\n",
      "\n",
      "{\n",
      "    \"metal_mass_fraction\": 0.01,\n",
      "    \"SFR\": 1.0,\n",
      "    \"solar_metallicity\": 0.0134,\n",
      "    \"delta_alpha\": 63.0,\n",
      "    \"m_star_max\": 150.1,\n",
      "    \"m_star_min\": 0.07,\n",
      "    \"suppress_warnings\": true,\n",
      "    \"M_ecl_max\": 10000000000.0,\n",
      "    \"M_ecl_min\": 5.0,\n",
      "    \"delta_t\": 10000000.0,\n",
      "    \"Mtot\": 10000000.0,\n",
      "    \"metallicity\": -0.1271047983648076,\n",
      "    \"M_ecl\": 100000.0,\n",
      "    \"alpha_1\": 1.0858,\n",
      "    \"alpha_2\": 2.0858,\n",
      "    \"alpha_3\": 1.9732941845738599,\n",
      "    \"k_star\": 14266.715506785735,\n",
      "    \"m_max\": 148.73104394022027,\n",
      "    \"IMF_func\": \"<numpy.vectorize object at 0x10ee049d0>\",\n",
      "    \"IMF_weighted_func\": \"<numpy.vectorize object at 0x10ee04ac0>\"\n",
      "}\n",
      "\n",
      "\n",
      "dictionary of a galaxy's ECMF\n",
      "\n",
      "{\n",
      "    \"metal_mass_fraction\": 0.01,\n",
      "    \"SFR\": 1.0,\n",
      "    \"solar_metallicity\": 0.0134,\n",
      "    \"delta_alpha\": 63.0,\n",
      "    \"m_star_max\": 150.1,\n",
      "    \"m_star_min\": 0.07,\n",
      "    \"suppress_warnings\": true,\n",
      "    \"M_ecl_max\": 10000000000.0,\n",
      "    \"M_ecl_min\": 5.0,\n",
      "    \"delta_t\": 10000000.0,\n",
      "    \"Mtot\": 10000000.0,\n",
      "    \"metallicity\": -0.1271047983648076,\n",
      "    \"beta_ECMF\": 2.0,\n",
      "    \"k_ecl\": 831818.8110165381,\n",
      "    \"M_max\": 831749.624518165,\n",
      "    \"ECMF_func\": \"<numpy.vectorize object at 0x10ee04910>\",\n",
      "    \"ECMF_weighted_func\": \"<numpy.vectorize object at 0x10ee04dc0>\"\n",
      "}\n",
      "\n",
      "\n",
      "dictionary of a galaxy's IGIMF at a given time t\n",
      "\n",
      "{\n",
      "    \"metal_mass_fraction\": 0.01,\n",
      "    \"SFR\": 1.0,\n",
      "    \"solar_metallicity\": 0.0134,\n",
      "    \"delta_alpha\": 63.0,\n",
      "    \"m_star_max\": 150.1,\n",
      "    \"m_star_min\": 0.07,\n",
      "    \"suppress_warnings\": true,\n",
      "    \"M_ecl_max\": 10000000000.0,\n",
      "    \"M_ecl_min\": 5.0,\n",
      "    \"delta_t\": 10000000.0,\n",
      "    \"Mtot\": 10000000.0,\n",
      "    \"metallicity\": -0.1271047983648076,\n",
      "    \"IGIMF_func\": \"<numpy.vectorize object at 0x1470b52b0>\"\n",
      "}\n"
     ]
    }
   ],
   "source": [
    "massfrac, SFR, Mtot, stellar_IMF, ecl_MF, t_IGIMF = inst.main()"
   ]
  },
  {
   "cell_type": "code",
   "execution_count": 5,
   "metadata": {},
   "outputs": [
    {
     "data": {
      "text/plain": [
       "array([5.36936353e+07, 4.53013056e+07, 3.82206992e+07, 3.22467936e+07,\n",
       "       2.72066110e+07, 2.29542103e+07, 1.93664610e+07, 1.63394779e+07,\n",
       "       1.37856131e+07, 1.16309180e+07, 9.81300236e+06, 8.27922743e+06,\n",
       "       6.98518194e+06, 5.50179876e+06, 3.96929299e+06, 2.86366105e+06,\n",
       "       2.06599882e+06, 1.49024345e+06, 1.05733993e+06, 7.50647365e+05,\n",
       "       5.33248341e+05, 3.79056197e+05, 2.69628971e+05, 1.91922847e+05,\n",
       "       1.36707463e+05, 9.74476500e+04, 6.95139846e+04, 4.96252364e+04,\n",
       "       3.54544161e+04, 2.53502925e+04, 1.81404395e+04, 1.29918758e+04,\n",
       "       9.31240502e+03, 6.68073394e+03, 4.79694592e+03, 3.44738185e+03,\n",
       "       2.47972228e+03, 1.78529701e+03, 1.28651808e+03, 7.26513713e+02,\n",
       "       5.29405664e+02, 3.86076480e+02, 2.81770778e+02, 2.05804052e+02,\n",
       "       1.50433467e+02, 1.00428314e+02, 7.38501593e+01, 5.11267090e+01,\n",
       "       3.56819944e+01, 0.00000000e+00])"
      ]
     },
     "execution_count": 5,
     "metadata": {},
     "output_type": "execute_result"
    }
   ],
   "source": [
    "t_IGIMF.IGIMF_func(mstar_v)"
   ]
  },
  {
   "cell_type": "code",
   "execution_count": 27,
   "metadata": {},
   "outputs": [],
   "source": [
    "from sklearn.model_selection import ParameterGrid\n",
    "\n",
    "#Mecl_v = np.array([5.,10.,1.e2,1.e3,1.e5,1.e7,1.e8,1.e9,1.e10])\n",
    "resolution = 20\n",
    "Mecl_v = np.logspace(np.log10(5),10,num=resolution)\n",
    "Z_massfrac_v = np.logspace(-8.5,1,num=resolution)\n",
    "solar_metallicity = 0.0134\n",
    "Z_massfrac_v *= solar_metallicity\n",
    "metallicity_v = np.log10(Z_massfrac_v/solar_metallicity)\n",
    "parameter_space = {'[Z]': metallicity_v,\n",
    "                   'M_ecl': Mecl_v}\n",
    "dict_list = list(ParameterGrid(parameter_space))\n",
    "\n",
    "rho_cl = lambda M_ecl: 10**(0.61 * np.log10(M_ecl) + 2.85)\n",
    "rho_cl_func = np.vectorize(rho_cl)\n",
    "rho_cl_v = rho_cl_func(Mecl_v)\n",
    "parameter_space['rho_cl'] = rho_cl_v\n",
    "\n",
    "def x_func(Z,rho):\n",
    "    return -0.14 * Z + 0.99 * np.log10(rho) - 6\n",
    "\n",
    "def alpha3(x):\n",
    "    if x < -0.87:\n",
    "        return 2.3\n",
    "    else:\n",
    "        return -0.41 * x + 1.94\n",
    "alpha3_func = np.vectorize(alpha3)"
   ]
  },
  {
   "cell_type": "code",
   "execution_count": 28,
   "metadata": {},
   "outputs": [],
   "source": [
    "x_v = []\n",
    "for pair in dict_list:\n",
    "    r = rho_cl_func(pair['M_ecl'])\n",
    "    #print(f\"{r = }\")\n",
    "    xval = x_func(pair['[Z]'], r)\n",
    "    x_v.append(xval)"
   ]
  },
  {
   "cell_type": "code",
   "execution_count": 26,
   "metadata": {},
   "outputs": [],
   "source": [
    "alpha3_v = alpha3_func(x_v)"
   ]
  },
  {
   "cell_type": "code",
   "execution_count": 9,
   "metadata": {},
   "outputs": [
    {
     "data": {
      "image/png": "[encoded data removed]",
      "text/plain": [
       "<Figure size 600x400 with 1 Axes>"
      ]
     },
     "metadata": {},
     "output_type": "display_data"
    }
   ],
   "source": [
    "from matplotlib import pyplot as plt\n",
    "fig, axs = plt.subplots(1, 1, figsize=(6,4))\n",
    "axs.loglog(Mecl_v, rho_cl_v)\n",
    "axs.set_ylabel(r'$\\rho_{cl}$',fontsize=15)\n",
    "axs.set_xlabel(r'$M_{ecl}$',fontsize=15)\n",
    "fig.savefig('figs/Mecl_rhocl.pdf')"
   ]
  },
  {
   "cell_type": "code",
   "execution_count": 10,
   "metadata": {},
   "outputs": [
    {
     "data": {
      "text/plain": [
       "(array([10, 11, 12, 13, 14, 15, 16, 17, 18, 19]),)"
      ]
     },
     "execution_count": 10,
     "metadata": {},
     "output_type": "execute_result"
    }
   ],
   "source": [
    "np.where(rho_cl_v>1e6)"
   ]
  },
  {
   "cell_type": "code",
   "execution_count": 35,
   "metadata": {},
   "outputs": [
    {
     "data": {
      "text/plain": [
       "0.2792950000000003"
      ]
     },
     "execution_count": 35,
     "metadata": {},
     "output_type": "execute_result"
    }
   ],
   "source": [
    "np.min(alpha3_v)"
   ]
  },
  {
   "cell_type": "code",
   "execution_count": 12,
   "metadata": {},
   "outputs": [
    {
     "data": {
      "text/plain": [
       "920194.9456692204"
      ]
     },
     "execution_count": 12,
     "metadata": {},
     "output_type": "execute_result"
    }
   ],
   "source": [
    "rho_cl_v[9]"
   ]
  },
  {
   "cell_type": "code",
   "execution_count": 13,
   "metadata": {},
   "outputs": [
    {
     "name": "stdout",
     "output_type": "stream",
     "text": [
      "145859.40117250354\n",
      "mass should exceed this value for Eq.(6) to compute the log\n"
     ]
    }
   ],
   "source": [
    "Mecl_inv = lambda rho_: np.power(10,(np.log10(rho_) - 2.85)/0.61)\n",
    "print(Mecl_inv(1e6))\n",
    "print('mass should exceed this value for Eq.(6) to compute the log')"
   ]
  },
  {
   "cell_type": "code",
   "execution_count": 29,
   "metadata": {},
   "outputs": [
    {
     "data": {
      "text/plain": [
       "{'[Z]': array([-8.5, -8. , -7.5, -7. , -6.5, -6. , -5.5, -5. , -4.5, -4. , -3.5,\n",
       "        -3. , -2.5, -2. , -1.5, -1. , -0.5,  0. ,  0.5,  1. ]),\n",
       " 'M_ecl': array([5.00000000e+00, 1.54346896e+01, 4.76459284e+01, 1.47080023e+02,\n",
       "        4.54026898e+02, 1.40155284e+03, 4.32650661e+03, 1.33556573e+04,\n",
       "        4.12280848e+04, 1.27268538e+05, 3.92870075e+05, 1.21276553e+06,\n",
       "        3.74373189e+06, 1.15566679e+07, 3.56747162e+07, 1.10125634e+08,\n",
       "        3.39950995e+08, 1.04940761e+09, 3.23945615e+09, 1.00000000e+10]),\n",
       " 'rho_cl': array([1.88960793e+03, 3.75823314e+03, 7.47473386e+03, 1.48664663e+04,\n",
       "        2.95678513e+04, 5.88073732e+04, 1.16961734e+05, 2.32624693e+05,\n",
       "        4.62666258e+05, 9.20194946e+05, 1.83017180e+06, 3.64002088e+06,\n",
       "        7.23962199e+06, 1.43988533e+07, 2.86378178e+07, 5.69576336e+07,\n",
       "        1.13282794e+08, 2.25307666e+08, 4.48113455e+08, 8.91250938e+08])}"
      ]
     },
     "execution_count": 29,
     "metadata": {},
     "output_type": "execute_result"
    }
   ],
   "source": [
    "parameter_space"
   ]
  },
  {
   "cell_type": "code",
   "execution_count": 44,
   "metadata": {},
   "outputs": [
    {
     "data": {
      "image/png": "[encoded data removed]",
      "text/plain": [
       "<Figure size 600x400 with 2 Axes>"
      ]
     },
     "metadata": {},
     "output_type": "display_data"
    }
   ],
   "source": [
    "def alpha3_plot(alpha3_v, x_v, parameter_space):\n",
    "    import colorcet as cc\n",
    "    fig,ax = plt.subplots(figsize=(6,4))\n",
    "    x,y = np.meshgrid(np.log10(parameter_space['rho_cl']), parameter_space['[Z]'])\n",
    "    z = np.array(alpha3_v).reshape(resolution,resolution).T\n",
    "    cax = ax.contourf(x, y, z, resolution, cmap=cc.cm.CET_L6)\n",
    "    plt.xlabel(r'$\\log_{10}(\\rho_{cl})$ [$\\log_{10}(M_{\\odot}/{\\rm pc}^3)$]', fontsize=15)\n",
    "    plt.ylabel(r'[$Z$]', fontsize=15)\n",
    "    cbar = fig.colorbar(cax)\n",
    "    cbar.set_label(r'$\\alpha_3$', fontsize=15)\n",
    "    plt.tight_layout()\n",
    "    plt.savefig('figs/alpha3plot.pdf')\n",
    "alpha3_plot(alpha3_v, x_v, parameter_space)"
   ]
  },
  {
   "cell_type": "code",
   "execution_count": null,
   "metadata": {},
   "outputs": [],
   "source": []
  }
 ],
 "metadata": {
  "kernelspec": {
   "display_name": "Python 3.9.13 ('igimf')",
   "language": "python",
   "name": "python3"
  },
  "language_info": {
   "codemirror_mode": {
    "name": "ipython",
    "version": 3
   },
   "file_extension": ".py",
   "mimetype": "text/x-python",
   "name": "python",
   "nbconvert_exporter": "python",
   "pygments_lexer": "ipython3",
   "version": "3.9.13"
  },
  "orig_nbformat": 4,
  "vscode": {
   "interpreter": {
    "hash": "7f576de37f5c9e749758f1a6838cb32d146d31ef44a003c513419164081a56e1"
   }
  }
 },
 "nbformat": 4,
 "nbformat_minor": 2
}
