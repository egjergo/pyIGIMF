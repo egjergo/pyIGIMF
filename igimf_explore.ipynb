{
 "cells": [
  {
   "cell_type": "code",
   "execution_count": 1,
   "metadata": {},
   "outputs": [],
   "source": [
    "import igimf as ii"
   ]
  },
  {
   "cell_type": "code",
   "execution_count": 2,
   "metadata": {},
   "outputs": [],
   "source": [
    "import igimf.instance as inst"
   ]
  },
  {
   "cell_type": "code",
   "execution_count": 3,
   "metadata": {},
   "outputs": [],
   "source": [
    "import numpy as np\n",
    "mstar_l=0.07\n",
    "mstar_u=150\n",
    "mstar_v = np.logspace(np.log10(mstar_l),np.log10(mstar_u), num=50)\n"
   ]
  },
  {
   "cell_type": "markdown",
   "metadata": {},
   "source": [
    "### This is what happens when you run instance"
   ]
  },
  {
   "cell_type": "code",
   "execution_count": 4,
   "metadata": {},
   "outputs": [
    {
     "name": "stdout",
     "output_type": "stream",
     "text": [
      "\n",
      "At a time t characterized by:\n",
      "SFR=1.00e+00\n",
      "and \n",
      "Mtot=1.00e+10\n",
      "\n",
      "\n",
      "dictionary of an e.cl.'s stellar IMF\n",
      "\n",
      "{\n",
      "    \"solar_metallicity\": 0.0134,\n",
      "    \"delta_alpha\": 63,\n",
      "    \"m_star_max\": 150,\n",
      "    \"m_star_min\": 0.07,\n",
      "    \"M_ecl_max\": 10000000000.0,\n",
      "    \"M_ecl_min\": 5,\n",
      "    \"delta_t\": 10000000.0,\n",
      "    \"SFR\": 1.0,\n",
      "    \"Mtot\": 10000000.0,\n",
      "    \"metal_mass_fraction\": 0.00134,\n",
      "    \"metallicity\": -1.0,\n",
      "    \"M_ecl\": 10000000000.0,\n",
      "    \"alpha_1\": 0.5402199999999999,\n",
      "    \"alpha_2\": 1.54022,\n",
      "    \"alpha_3\": 0.6851950000000002,\n",
      "    \"k_star\": 18092236.188298263,\n",
      "    \"m_max\": 149.9999982877995,\n",
      "    \"IMF_func\": \"<numpy.vectorize object at 0x113dd28b0>\",\n",
      "    \"IMF_weighted_func\": \"<numpy.vectorize object at 0x113c1a0d0>\"\n",
      "}\n",
      "\n",
      "\n",
      "dictionary of a galaxy's ECMF\n",
      "\n",
      "{\n",
      "    \"solar_metallicity\": 0.0134,\n",
      "    \"delta_alpha\": 63,\n",
      "    \"m_star_max\": 150,\n",
      "    \"m_star_min\": 0.07,\n",
      "    \"M_ecl_max\": 10000000000.0,\n",
      "    \"M_ecl_min\": 5,\n",
      "    \"delta_t\": 10000000.0,\n",
      "    \"SFR\": 1.0,\n",
      "    \"Mtot\": 10000000.0,\n",
      "    \"metal_mass_fraction\": 0.00134,\n",
      "    \"metallicity\": -1.0,\n",
      "    \"beta_ECMF\": 2.0,\n",
      "    \"k_ecl\": 831818.8110165381,\n",
      "    \"M_max\": 831749.624518165,\n",
      "    \"ECMF_func\": \"<numpy.vectorize object at 0x113c1a8b0>\",\n",
      "    \"ECMF_weighted_func\": \"<numpy.vectorize object at 0x113c1a670>\"\n",
      "}\n",
      "\n",
      "\n",
      "dictionary of a galaxy's IGIMF at a given time t\n",
      "\n",
      "{\n",
      "    \"solar_metallicity\": 0.0134,\n",
      "    \"delta_alpha\": 63,\n",
      "    \"m_star_max\": 150,\n",
      "    \"m_star_min\": 0.07,\n",
      "    \"M_ecl_max\": 10000000000.0,\n",
      "    \"M_ecl_min\": 5,\n",
      "    \"delta_t\": 10000000.0,\n",
      "    \"SFR\": 1.0,\n",
      "    \"Mtot\": 10000000.0,\n",
      "    \"metal_mass_fraction\": 0.00134,\n",
      "    \"metallicity\": -1.0,\n",
      "    \"IGIMF_func\": \"<numpy.vectorize object at 0x14828b9d0>\"\n",
      "}\n"
     ]
    }
   ],
   "source": [
    "massfrac, SFR, Mtot, stellar_IMF, ecl_MF, t_IGIMF = inst.main()"
   ]
  },
  {
   "cell_type": "code",
   "execution_count": 6,
   "metadata": {},
   "outputs": [
    {
     "data": {
      "text/plain": [
       "array([1.38060733e+07, 1.26866312e+07, 1.16579571e+07, 1.07126914e+07,\n",
       "       9.84407090e+06, 9.04588105e+06, 8.31241108e+06, 7.63841327e+06,\n",
       "       7.01906544e+06, 6.44993639e+06, 5.92695420e+06, 5.44637713e+06,\n",
       "       5.00476685e+06, 4.29337734e+06, 3.37361676e+06, 2.65089443e+06,\n",
       "       2.08299927e+06, 1.63494796e+06, 1.16199139e+06, 8.26434914e+05,\n",
       "       5.88208480e+05, 4.18968070e+05, 2.98653582e+05, 2.13059930e+05,\n",
       "       1.52122375e+05, 1.08705514e+05, 7.77475907e+04, 5.56555806e+04,\n",
       "       3.98773395e+04, 2.85988311e+04, 2.05297500e+04, 1.47516478e+04,\n",
       "       1.06102764e+04, 7.63922759e+03, 5.50573828e+03, 3.97220126e+03,\n",
       "       2.86881200e+03, 2.07411603e+03, 1.50116488e+03, 1.08765637e+03,\n",
       "       6.23904045e+02, 4.57722471e+02, 3.36090189e+02, 2.46987603e+02,\n",
       "       1.81658791e+02, 1.33719743e+02, 9.06872393e+01, 6.71733439e+01,\n",
       "       4.66932866e+01, 0.00000000e+00])"
      ]
     },
     "execution_count": 6,
     "metadata": {},
     "output_type": "execute_result"
    }
   ],
   "source": [
    "t_IGIMF.IGIMF_func(mstar_v)"
   ]
  },
  {
   "cell_type": "code",
   "execution_count": 10,
   "metadata": {},
   "outputs": [
    {
     "data": {
      "text/plain": [
       "29.166666666666668"
      ]
     },
     "execution_count": 10,
     "metadata": {},
     "output_type": "execute_result"
    }
   ],
   "source": [
    "50*50*42/60/60"
   ]
  },
  {
   "cell_type": "code",
   "execution_count": null,
   "metadata": {},
   "outputs": [],
   "source": []
  }
 ],
 "metadata": {
  "kernelspec": {
   "display_name": "Python 3.9.13 ('igimf')",
   "language": "python",
   "name": "python3"
  },
  "language_info": {
   "codemirror_mode": {
    "name": "ipython",
    "version": 3
   },
   "file_extension": ".py",
   "mimetype": "text/x-python",
   "name": "python",
   "nbconvert_exporter": "python",
   "pygments_lexer": "ipython3",
   "version": "3.9.13"
  },
  "orig_nbformat": 4,
  "vscode": {
   "interpreter": {
    "hash": "7f576de37f5c9e749758f1a6838cb32d146d31ef44a003c513419164081a56e1"
   }
  }
 },
 "nbformat": 4,
 "nbformat_minor": 2
}
